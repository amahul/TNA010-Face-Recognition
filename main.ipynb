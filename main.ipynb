{
 "cells": [
  {
   "cell_type": "markdown",
   "metadata": {},
   "source": [
    "# Face Recognition Using Tensor SVD"
   ]
  },
  {
   "cell_type": "code",
   "execution_count": 7,
   "metadata": {},
   "outputs": [
    {
     "name": "stdout",
     "output_type": "stream",
     "text": [
      "Size of the tensor_images: (77760, 11, 15)\n",
      "Size of Q: (77760, 77760)\n",
      "Size of R: (15, 15)\n",
      "Size of Q: (77760, 77760)\n",
      "Size of R: (15, 15)\n",
      "Size of Q: (77760, 77760)\n",
      "Size of R: (15, 15)\n",
      "Size of Q: (77760, 77760)\n",
      "Size of R: (15, 15)\n",
      "Size of Q: (77760, 77760)\n",
      "Size of R: (15, 15)\n",
      "Size of Q: (77760, 77760)\n",
      "Size of R: (15, 15)\n",
      "Size of Q: (77760, 77760)\n",
      "Size of R: (15, 15)\n",
      "Size of Q: (77760, 77760)\n",
      "Size of R: (15, 15)\n",
      "Size of Q: (77760, 77760)\n",
      "Size of R: (15, 15)\n",
      "Size of Q: (77760, 77760)\n",
      "Size of R: (15, 15)\n",
      "Size of Q: (77760, 77760)\n",
      "Size of R: (15, 15)\n"
     ]
    }
   ],
   "source": [
    "using TensorOperations\n",
    "using LinearAlgebra\n",
    "# include(\"./functions/test_function.jl\")\n",
    "include(\"./functions/helper_images.jl\")\n",
    "\n",
    "nr_persons = 15\n",
    "nr_expressions = 11\n",
    "\n",
    "tensor_images = load_images_as_tensor(\"./data\", nr_persons, nr_expressions)\n",
    "\n",
    "println(\"Size of the tensor_images: \", size(tensor_images))\n",
    "\n",
    "for e in 1:nr_expressions\n",
    "    \n",
    "    Q, R = qr(tensor_images[:,e,:])\n",
    "    println(\"Size of Q: \", size(Q))\n",
    "    println(\"Size of R: \", size(R))\n",
    "\n",
    "    for p in 1:nr_persons\n",
    "        # Classify person\n",
    "\n",
    "        hp = tensor_images[:,e,p] # ??\n",
    "    end\n",
    "\n",
    "end\n",
    "\n"
   ]
  },
  {
   "cell_type": "code",
   "execution_count": null,
   "metadata": {},
   "outputs": [],
   "source": []
  }
 ],
 "metadata": {
  "kernelspec": {
   "display_name": "Julia 1.9.3",
   "language": "julia",
   "name": "julia-1.9"
  },
  "language_info": {
   "file_extension": ".jl",
   "mimetype": "application/julia",
   "name": "julia",
   "version": "1.9.3"
  }
 },
 "nbformat": 4,
 "nbformat_minor": 2
}
