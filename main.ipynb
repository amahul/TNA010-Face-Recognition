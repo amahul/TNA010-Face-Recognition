{
 "cells": [
  {
   "cell_type": "code",
   "execution_count": 11,
   "metadata": {},
   "outputs": [
    {
     "name": "stdout",
     "output_type": "stream",
     "text": [
      "Hello 2"
     ]
    },
    {
     "ename": "UndefVarError",
     "evalue": "UndefVarError: `change_extension` not defined",
     "output_type": "error",
     "traceback": [
      "UndefVarError: `change_extension` not defined\n",
      "\n",
      "Stacktrace:\n",
      " [1] display_images()\n",
      "   @ Main c:\\Users\\axeln\\OneDrive\\Dokument\\VScode\\TNA010-Face-Recognition\\functions\\helper_images.jl:15\n",
      " [2] top-level scope\n",
      "   @ c:\\Users\\axeln\\OneDrive\\Dokument\\VScode\\TNA010-Face-Recognition\\main.ipynb:5"
     ]
    }
   ],
   "source": [
    "include(\"./functions/test_function.jl\")\n",
    "include(\"./functions/helper_images.jl\")\n",
    "\n",
    "test()\n",
    "display_images()\n"
   ]
  },
  {
   "cell_type": "code",
   "execution_count": 8,
   "metadata": {},
   "outputs": [],
   "source": []
  }
 ],
 "metadata": {
  "kernelspec": {
   "display_name": "Julia 1.9.3",
   "language": "julia",
   "name": "julia-1.9"
  },
  "language_info": {
   "file_extension": ".jl",
   "mimetype": "application/julia",
   "name": "julia",
   "version": "1.9.3"
  }
 },
 "nbformat": 4,
 "nbformat_minor": 2
}
